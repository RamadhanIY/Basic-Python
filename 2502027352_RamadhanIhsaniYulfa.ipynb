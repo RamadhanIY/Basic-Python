{
  "nbformat": 4,
  "nbformat_minor": 0,
  "metadata": {
    "colab": {
      "name": "2502027352-RamadhanIhsaniYulfa.ipynb",
      "provenance": [],
      "authorship_tag": "ABX9TyNVO94UBqJMi8XMCKVvO2J2",
      "include_colab_link": true
    },
    "kernelspec": {
      "name": "python3",
      "display_name": "Python 3"
    },
    "language_info": {
      "name": "python"
    }
  },
  "cells": [
    {
      "cell_type": "markdown",
      "metadata": {
        "id": "view-in-github",
        "colab_type": "text"
      },
      "source": [
        "<a href=\"https://colab.research.google.com/github/RamadhanIY/Basic-Python/blob/master/2502027352_RamadhanIhsaniYulfa.ipynb\" target=\"_parent\"><img src=\"https://colab.research.google.com/assets/colab-badge.svg\" alt=\"Open In Colab\"/></a>"
      ]
    },
    {
      "cell_type": "code",
      "execution_count": 5,
      "metadata": {
        "id": "D-Pii2ulaV4j"
      },
      "outputs": [],
      "source": [
        "import numpy as np"
      ]
    },
    {
      "cell_type": "code",
      "source": [
        "x = np.array([1,4,3])\n",
        "x"
      ],
      "metadata": {
        "colab": {
          "base_uri": "https://localhost:8080/"
        },
        "id": "E2PMLsEzawl5",
        "outputId": "78499d9e-d842-4321-c030-19cc989c5406"
      },
      "execution_count": 6,
      "outputs": [
        {
          "output_type": "execute_result",
          "data": {
            "text/plain": [
              "array([1, 4, 3])"
            ]
          },
          "metadata": {},
          "execution_count": 6
        }
      ]
    },
    {
      "cell_type": "code",
      "source": [
        "y = np.array([[1,4,3],[1,4,2]])\n",
        "y"
      ],
      "metadata": {
        "colab": {
          "base_uri": "https://localhost:8080/"
        },
        "id": "WENDndd9a_WQ",
        "outputId": "179e1726-0aae-4c42-a0ec-251bf4efc56d"
      },
      "execution_count": 7,
      "outputs": [
        {
          "output_type": "execute_result",
          "data": {
            "text/plain": [
              "array([[1, 4, 3],\n",
              "       [1, 4, 2]])"
            ]
          },
          "metadata": {},
          "execution_count": 7
        }
      ]
    },
    {
      "cell_type": "code",
      "source": [
        "def sum_func(a,b,c): \n",
        "  \"\"\" \n",
        "  function to sum 3 int \n",
        "  \"\"\"\n",
        "\n",
        "  # output\n",
        "  out = a + b + c\n",
        "\n",
        "  return out"
      ],
      "metadata": {
        "id": "5FWnmYwGfrmK"
      },
      "execution_count": 30,
      "outputs": []
    },
    {
      "cell_type": "code",
      "source": [
        "sum_func(1,10,2)"
      ],
      "metadata": {
        "colab": {
          "base_uri": "https://localhost:8080/"
        },
        "id": "PPGDjPpkf6pe",
        "outputId": "a460bcfa-5591-4faf-c52f-2a2e5cad892c"
      },
      "execution_count": 17,
      "outputs": [
        {
          "output_type": "execute_result",
          "data": {
            "text/plain": [
              "13"
            ]
          },
          "metadata": {},
          "execution_count": 17
        }
      ]
    },
    {
      "cell_type": "code",
      "source": [
        "x = 3\n",
        "if x > 1 and x < 2:\n",
        "  y=2\n",
        "elif x>2 and x<4:\n",
        "  y=4\n",
        "else:\n",
        "  y=0\n",
        "print(y)"
      ],
      "metadata": {
        "id": "USjguJq5kYdM",
        "outputId": "1ca9cc05-7056-499f-b827-cec4c6e8b1bd",
        "colab": {
          "base_uri": "https://localhost:8080/"
        }
      },
      "execution_count": 31,
      "outputs": [
        {
          "output_type": "stream",
          "name": "stdout",
          "text": [
            "4\n"
          ]
        }
      ]
    },
    {
      "cell_type": "code",
      "source": [
        "x = 3\n",
        "if 1<x<2:\n",
        "  y=2\n",
        "elif 2<x<4:\n",
        "  y=4\n",
        "else:\n",
        "  y=0\n",
        "print(y)"
      ],
      "metadata": {
        "id": "YOYnnKv3kp_S",
        "outputId": "dcc75c89-7830-4789-cf56-e0a2f5f54f57",
        "colab": {
          "base_uri": "https://localhost:8080/"
        }
      },
      "execution_count": 32,
      "outputs": [
        {
          "output_type": "stream",
          "name": "stdout",
          "text": [
            "4\n"
          ]
        }
      ]
    }
  ]
}