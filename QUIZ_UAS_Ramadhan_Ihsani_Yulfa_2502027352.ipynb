{
  "nbformat": 4,
  "nbformat_minor": 0,
  "metadata": {
    "colab": {
      "name": "QUIZ_UAS_Ramadhan Ihsani Yulfa_2502027352",
      "provenance": [],
      "authorship_tag": "ABX9TyODzlpdSUsN8eCgwYsXmUoN",
      "include_colab_link": true
    },
    "kernelspec": {
      "name": "python3",
      "display_name": "Python 3"
    },
    "language_info": {
      "name": "python"
    }
  },
  "cells": [
    {
      "cell_type": "markdown",
      "metadata": {
        "id": "view-in-github",
        "colab_type": "text"
      },
      "source": [
        "<a href=\"https://colab.research.google.com/github/RamadhanIY/Basic-Python/blob/master/QUIZ_UAS_Ramadhan_Ihsani_Yulfa_2502027352.ipynb\" target=\"_parent\"><img src=\"https://colab.research.google.com/assets/colab-badge.svg\" alt=\"Open In Colab\"/></a>"
      ]
    },
    {
      "cell_type": "code",
      "source": [
        "import numpy as np\n",
        "import math"
      ],
      "metadata": {
        "id": "FKX0nUH-xQCI"
      },
      "execution_count": 30,
      "outputs": []
    },
    {
      "cell_type": "code",
      "execution_count": 31,
      "metadata": {
        "colab": {
          "base_uri": "https://localhost:8080/",
          "height": 0
        },
        "id": "DzfRtT5ultq8",
        "outputId": "cd6bd24f-d8de-4ae0-e56d-73e87f622d60"
      },
      "outputs": [
        {
          "output_type": "stream",
          "name": "stdout",
          "text": [
            "F''''(0.1)  = -124.19999999999776\n",
            "\n",
            "F'''(0.5)   = -10.809999999999873\n",
            "\n"
          ]
        }
      ],
      "source": [
        "x = [0.1, 0.2, 0.3, 0.4, 0.5, 0.6]\n",
        "y = [0.09327, 0.08435, 0.07591, 0.06894, 0.05971, 0.04362]\n",
        "\n",
        "h = 0.1\n",
        "\n",
        "#2nd non-central forward karena dimulai dari 0.1\n",
        "f4 = ((3 * y[0]) - (14 * y[1]) + (26 * y[2]) -\n",
        "             (24 * y[3]) + (11 * y[4]) - (2 * y[5])) / h**4\n",
        "#2nd non-central backward karena dimulai dari 0.5 \n",
        "f3 = ((3 * y[0]) - (14 * y[1]) + (24 * y[2]) - (18*y[3]) + (5*y[4]))/(2*(h**3))\n",
        "\n",
        "print(f\"F''''(0.1)  = {f4}\\n\")\n",
        "print(f\"F'''(0.5)   = {f3}\\n\")\n"
      ]
    },
    {
      "cell_type": "code",
      "source": [
        "#2a\n",
        "x = 0\n",
        "y = 2\n",
        "yask = 0.2\n",
        "h = 0.2\n",
        "total = 4\n",
        "\n",
        "\n",
        "Y1 = (2*(x**2))-(8*y)\n",
        "Y2 = (4*x)-8*(Y1)\n",
        "Y3 = 4-(32*x)+(64*Y1)\n",
        "Y4 = (-32)+(256*x)-(512*Y1)\n",
        "\n",
        "\n",
        "def yask2(h):\n",
        "  return y-(Y1*h)+(((h**2)/np.math.factorial(2))*Y2)+(((h**3)/np.math.factorial(3))*Y3)+(((h**4)/np.math.factorial(4))*Y4)\n",
        "\n",
        "print(\"Hasil:\")\n",
        "print(yask2(0.2))\n",
        "\n",
        "e = 2.71828\n",
        "def Error(e,h) :\n",
        "  return ((31/32)*(e)**(-4*h))+((1/4)*(h**2))-((1/8)*h)+(1/32)\n",
        "\n",
        "print(Error(e,h))\n",
        "\n",
        "ErrorFinal = Error(e,h)-yask2(h)\n",
        "print(ErrorFinal)"
      ],
      "metadata": {
        "colab": {
          "base_uri": "https://localhost:8080/"
        },
        "id": "Vg5olf2Foe98",
        "outputId": "bb888edb-e2d9-4cb7-bf39-a34e3013febc"
      },
      "execution_count": 47,
      "outputs": [
        {
          "output_type": "stream",
          "name": "stdout",
          "text": [
            "Hasil:\n",
            "6.944000000000001\n",
            "0.45153766822644187\n",
            "-6.492462331773559\n"
          ]
        }
      ]
    }
  ]
}