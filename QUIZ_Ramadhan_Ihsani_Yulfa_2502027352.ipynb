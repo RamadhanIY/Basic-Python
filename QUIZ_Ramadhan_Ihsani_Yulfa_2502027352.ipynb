{
  "nbformat": 4,
  "nbformat_minor": 0,
  "metadata": {
    "colab": {
      "name": "QUIZ - Ramadhan Ihsani Yulfa - 2502027352.ipynb",
      "provenance": [],
      "authorship_tag": "ABX9TyPVyr504iaRHAtatfNaok4l",
      "include_colab_link": true
    },
    "kernelspec": {
      "name": "python3",
      "display_name": "Python 3"
    },
    "language_info": {
      "name": "python"
    }
  },
  "cells": [
    {
      "cell_type": "markdown",
      "metadata": {
        "id": "view-in-github",
        "colab_type": "text"
      },
      "source": [
        "<a href=\"https://colab.research.google.com/github/RamadhanIY/Basic-Python/blob/master/QUIZ_Ramadhan_Ihsani_Yulfa_2502027352.ipynb\" target=\"_parent\"><img src=\"https://colab.research.google.com/assets/colab-badge.svg\" alt=\"Open In Colab\"/></a>"
      ]
    },
    {
      "cell_type": "code",
      "execution_count": 2,
      "metadata": {
        "id": "iJUSs7ZwLeW_"
      },
      "outputs": [],
      "source": [
        "import numpy as np\n"
      ]
    },
    {
      "cell_type": "code",
      "source": [
        "import matplotlib.pyplot as plt\n",
        "plt.style.use(\"seaborn-poster\")\n",
        "%matplotlib inline"
      ],
      "metadata": {
        "id": "Bw4LLX5ZLw8d"
      },
      "execution_count": 3,
      "outputs": []
    },
    {
      "cell_type": "markdown",
      "source": [
        "**Nomor 1**"
      ],
      "metadata": {
        "id": "7rYyhxQUL6Qy"
      }
    },
    {
      "cell_type": "code",
      "source": [
        "x = np.array([0.1 , 0.3, 0.5, 0.7 , 0.9 , 1.1 , 1.3])\n",
        "y = np.array([0.003 , 0.067 , 0.148 , 0.248 , 0.370 , 0.518 , 0.697])\n",
        "\n",
        "#Nilai x\n",
        "x_score = 0.58\n",
        "\n",
        "n = len(y)\n",
        "\n",
        "DD = np.zeros([n, n])\n",
        "# the first column is y\n",
        "DD[:,0] = y\n",
        "    \n",
        "for j in range(1,n):\n",
        "  for i in range(n-j):\n",
        "    DD[i][j] = \\\n",
        "    (DD[i+1][j-1] - DD[i][j-1]) / (x[i+j]-x[i])\n",
        "\n",
        "newt = DD[0, 0]\n",
        "for i in range(1, n):\n",
        "  a = DD[0,i]\n",
        "  for k in range(0, i):\n",
        "    a = a*(x_score - x[k])\n",
        "\n",
        "  newt = newt + a\n",
        "print(newt)"
      ],
      "metadata": {
        "colab": {
          "base_uri": "https://localhost:8080/"
        },
        "id": "17nK7jLML8Yx",
        "outputId": "3463fcf2-9620-4345-aed5-f7070b05a41f"
      },
      "execution_count": null,
      "outputs": [
        {
          "output_type": "stream",
          "name": "stdout",
          "text": [
            "0.18557439999999997\n"
          ]
        }
      ]
    },
    {
      "cell_type": "markdown",
      "source": [
        "**Nomor 2**"
      ],
      "metadata": {
        "id": "NIP4n2Q0T-tE"
      }
    },
    {
      "cell_type": "code",
      "source": [
        "import matplotlib.pyplot as plt\n",
        "from scipy import stats\n",
        "\n",
        "x = np.array([0.1 , 0.3, 0.5, 0.7 , 0.9 , 1.1 , 1.3])\n",
        "y = np.array([0.003 , 0.067 , 0.148 , 0.248 , 0.370 , 0.518 , 0.697])\n",
        "\n",
        "slope, intercept, r, p, std_err = stats.linregress(x, y)\n",
        "\n",
        "def myfunc(x):\n",
        "  return slope * x + intercept\n",
        "\n",
        "mymodel = list(map(myfunc, x))\n",
        "\n",
        "plt.scatter(x, y)\n",
        "plt.plot(x, mymodel)\n",
        "plt.show()\n",
        "\n",
        "print(\"Nilai Intercept:\")\n",
        "print(intercept)\n",
        "print(\"Nilai Slope:\")\n",
        "print(slope)\n",
        "\n",
        "print(\"\")\n",
        "\n",
        "p1 = slope**3 + 2*slope - intercept\n",
        "p2 = 2*slope*intercept\n",
        "print(p1)\n",
        "print(p2)"
      ],
      "metadata": {
        "colab": {
          "base_uri": "https://localhost:8080/",
          "height": 399
        },
        "id": "FVLdZKWRV_fC",
        "outputId": "eb4b3201-64ab-48ef-c6b7-e8f8920b40c8"
      },
      "execution_count": 8,
      "outputs": [
        {
          "output_type": "display_data",
          "data": {
            "text/plain": [
              "<Figure size 432x288 with 1 Axes>"
            ],
            "image/png": "[encoded data removed]"
          },
          "metadata": {
            "needs_background": "light"
          }
        },
        {
          "output_type": "stream",
          "name": "stdout",
          "text": [
            "Nilai Intercept:\n",
            "-0.1077499999999999\n",
            "Nilai Slope:\n",
            "0.5724999999999999\n",
            "\n",
            "1.4403904531249996\n",
            "-0.12337374999999987\n"
          ]
        }
      ]
    },
    {
      "cell_type": "markdown",
      "source": [
        "**Nomor** **3** "
      ],
      "metadata": {
        "id": "Q7I-S7sgWAQD"
      }
    },
    {
      "cell_type": "code",
      "source": [
        "plt.plot(x,y,\"b.\")\n",
        "plt.plot(x,y,\"r\")\n",
        "plt.show()"
      ],
      "metadata": {
        "colab": {
          "base_uri": "https://localhost:8080/",
          "height": 278
        },
        "id": "AHH1AxVNWFWL",
        "outputId": "e746030a-5171-4834-b2bd-938a0b2fc05c"
      },
      "execution_count": null,
      "outputs": [
        {
          "output_type": "display_data",
          "data": {
            "text/plain": [
              "<Figure size 432x288 with 1 Axes>"
            ],
            "image/png": "[encoded data removed]"
          },
          "metadata": {
            "needs_background": "light"
          }
        }
      ]
    }
  ]
}